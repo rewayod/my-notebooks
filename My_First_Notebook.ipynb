{
  "nbformat": 4,
  "nbformat_minor": 0,
  "metadata": {
    "colab": {
      "name": "My First Notebook",
      "provenance": [],
      "authorship_tag": "ABX9TyNGToIb7N5YZP4uU4+/9/Ns",
      "include_colab_link": true
    },
    "kernelspec": {
      "name": "python3",
      "display_name": "Python 3"
    },
    "language_info": {
      "name": "python"
    }
  },
  "cells": [
    {
      "cell_type": "markdown",
      "metadata": {
        "id": "view-in-github",
        "colab_type": "text"
      },
      "source": [
        "<a href=\"https://colab.research.google.com/github/rewayod/my-notebooks/blob/main/My_First_Notebook.ipynb\" target=\"_parent\"><img src=\"https://colab.research.google.com/assets/colab-badge.svg\" alt=\"Open In Colab\"/></a>"
      ]
    },
    {
      "cell_type": "markdown",
      "source": [
        "# My First Notebook!\n",
        "This is a text cell. It uses the markdown language. The line above is a heading, starting with the \"#\" sign. Remember \"#\" means something different in Markdown than it does in Python."
      ],
      "metadata": {
        "id": "DYL9n42uW0Ry"
      }
    },
    {
      "cell_type": "code",
      "source": [
        "# This is some example Python code\n",
        "# These lines starting with \"#\" are \"comments\"\n",
        "# Remember \"#\" means something different in Markdown than it does in Python.\n",
        "print(\"HELLO WORLD!\")\n",
        "\n",
        "x=2+2\n",
        "print(x)"
      ],
      "metadata": {
        "colab": {
          "base_uri": "https://localhost:8080/"
        },
        "id": "7wjP8oILXgUY",
        "outputId": "8332eb4e-7f63-4133-f207-c71b1e777999"
      },
      "execution_count": 1,
      "outputs": [
        {
          "output_type": "stream",
          "name": "stdout",
          "text": [
            "HELLO WORLD!\n",
            "4\n"
          ]
        }
      ]
    }
  ]
}